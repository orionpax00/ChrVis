{
 "cells": [
  {
   "cell_type": "code",
   "execution_count": 74,
   "metadata": {},
   "outputs": [],
   "source": [
    "import networkx as nx\n",
    "import matplotlib.pyplot as plt\n",
    "import pandas as pd\n",
    "\n",
    "from pyvis import network as net\n",
    "import random "
   ]
  },
  {
   "cell_type": "markdown",
   "metadata": {},
   "source": [
    "### 2D graph"
   ]
  },
  {
   "cell_type": "code",
   "execution_count": 133,
   "metadata": {},
   "outputs": [],
   "source": [
    "# reading from actual file\n",
    "\n",
    "df = pd.read_csv('cis.csv')"
   ]
  },
  {
   "cell_type": "code",
   "execution_count": 134,
   "metadata": {},
   "outputs": [
    {
     "data": {
      "text/html": [
       "<div>\n",
       "<style scoped>\n",
       "    .dataframe tbody tr th:only-of-type {\n",
       "        vertical-align: middle;\n",
       "    }\n",
       "\n",
       "    .dataframe tbody tr th {\n",
       "        vertical-align: top;\n",
       "    }\n",
       "\n",
       "    .dataframe thead th {\n",
       "        text-align: right;\n",
       "    }\n",
       "</style>\n",
       "<table border=\"1\" class=\"dataframe\">\n",
       "  <thead>\n",
       "    <tr style=\"text-align: right;\">\n",
       "      <th></th>\n",
       "      <th>source</th>\n",
       "      <th>target</th>\n",
       "      <th>weight</th>\n",
       "      <th>size</th>\n",
       "    </tr>\n",
       "  </thead>\n",
       "  <tbody>\n",
       "    <tr>\n",
       "      <th>0</th>\n",
       "      <td>chr1-7000000</td>\n",
       "      <td>chr1-7100000</td>\n",
       "      <td>0.025136</td>\n",
       "      <td>9</td>\n",
       "    </tr>\n",
       "    <tr>\n",
       "      <th>1</th>\n",
       "      <td>chr1-9700000</td>\n",
       "      <td>chr1-9800000</td>\n",
       "      <td>0.027001</td>\n",
       "      <td>6</td>\n",
       "    </tr>\n",
       "    <tr>\n",
       "      <th>2</th>\n",
       "      <td>chr1-13600000</td>\n",
       "      <td>chr1-13500000</td>\n",
       "      <td>0.029473</td>\n",
       "      <td>4</td>\n",
       "    </tr>\n",
       "    <tr>\n",
       "      <th>3</th>\n",
       "      <td>chr1-13500000</td>\n",
       "      <td>chr1-13600000</td>\n",
       "      <td>0.028725</td>\n",
       "      <td>9</td>\n",
       "    </tr>\n",
       "    <tr>\n",
       "      <th>4</th>\n",
       "      <td>chr1-16600000</td>\n",
       "      <td>chr1-16500000</td>\n",
       "      <td>0.026081</td>\n",
       "      <td>3</td>\n",
       "    </tr>\n",
       "  </tbody>\n",
       "</table>\n",
       "</div>"
      ],
      "text/plain": [
       "          source         target    weight  size\n",
       "0   chr1-7000000   chr1-7100000  0.025136     9\n",
       "1   chr1-9700000   chr1-9800000  0.027001     6\n",
       "2  chr1-13600000  chr1-13500000  0.029473     4\n",
       "3  chr1-13500000  chr1-13600000  0.028725     9\n",
       "4  chr1-16600000  chr1-16500000  0.026081     3"
      ]
     },
     "execution_count": 134,
     "metadata": {},
     "output_type": "execute_result"
    }
   ],
   "source": [
    "df.head()"
   ]
  },
  {
   "cell_type": "code",
   "execution_count": 135,
   "metadata": {},
   "outputs": [],
   "source": [
    "H = nx.from_pandas_edgelist(df, edge_attr=True)"
   ]
  },
  {
   "cell_type": "code",
   "execution_count": 153,
   "metadata": {},
   "outputs": [],
   "source": [
    "pos=nx.spring_layout(H)"
   ]
  },
  {
   "cell_type": "code",
   "execution_count": 155,
   "metadata": {},
   "outputs": [],
   "source": [
    "data = nx.json_graph.node_link_data(H, {'link': 'edges', 'source': 'from', 'target': 'to'})"
   ]
  },
  {
   "cell_type": "code",
   "execution_count": 164,
   "metadata": {},
   "outputs": [],
   "source": [
    "for counter in range(len(data['nodes'])):\n",
    "    data['nodes'][counter]['label'] = data['nodes'][counter]['id']\n",
    "    data['nodes'][counter]['title'] = data['nodes'][counter]['id'][0:4] +\"\\n\"+ data['nodes'][counter]['id'][5:]\n",
    "    data['nodes'][counter]['group'] = 1\n",
    "    data['nodes'][counter]['value'] = random.randint(1,10)\n",
    "#     value = pos[data['nodes'][counter]['id']]\n",
    "#     data['nodes'][counter]['x'] = value[0]*10000\n",
    "#     data['nodes'][counter]['y'] = value[1]*10000"
   ]
  },
  {
   "cell_type": "code",
   "execution_count": 169,
   "metadata": {},
   "outputs": [],
   "source": [
    "for counter in range(len(data['edges']) -1):\n",
    "    source = data['edges'][counter]['from']\n",
    "    target = data['edges'][counter]['to']\n",
    "    data['edges'][counter] = {}\n",
    "    data['edges'][counter]['from'] = source\n",
    "    data['edges'][counter]['to'] = target\n",
    "    data['edges'][counter]['title'] = \"Here comes <br> the information <br> related to interaction\"\n",
    "    data['edges'][counter]['length'] = random.randint(10,500)\n",
    "    data['edges'][counter]['value'] = random.randint(1,2)"
   ]
  },
  {
   "cell_type": "code",
   "execution_count": 171,
   "metadata": {},
   "outputs": [],
   "source": [
    "import json\n",
    "with open('../docs/test_visjs.json','w') as out_file:\n",
    "    json.dump(data,out_file)"
   ]
  },
  {
   "cell_type": "code",
   "execution_count": 94,
   "metadata": {},
   "outputs": [],
   "source": []
  },
  {
   "cell_type": "markdown",
   "metadata": {},
   "source": [
    "### 3D graph \n",
    "\n",
    "3d graph is not for the above file(structure) because not been able to predict the structure"
   ]
  },
  {
   "cell_type": "code",
   "execution_count": null,
   "metadata": {},
   "outputs": [],
   "source": []
  }
 ],
 "metadata": {
  "kernelspec": {
   "display_name": "Python 3",
   "language": "python",
   "name": "python3"
  },
  "language_info": {
   "codemirror_mode": {
    "name": "ipython",
    "version": 3
   },
   "file_extension": ".py",
   "mimetype": "text/x-python",
   "name": "python",
   "nbconvert_exporter": "python",
   "pygments_lexer": "ipython3",
   "version": "3.7.3"
  }
 },
 "nbformat": 4,
 "nbformat_minor": 2
}
