{
 "cells": [
  {
   "cell_type": "code",
   "execution_count": 1,
   "metadata": {},
   "outputs": [],
   "source": [
    "import networkx as nx\n",
    "import matplotlib.pyplot as plt\n",
    "import pandas as pd\n",
    "\n",
    "from pyvis import network as net\n",
    "import random "
   ]
  },
  {
   "cell_type": "markdown",
   "metadata": {},
   "source": [
    "### 2D graph"
   ]
  },
  {
   "cell_type": "code",
   "execution_count": 2,
   "metadata": {},
   "outputs": [],
   "source": [
    "# reading from actual file\n",
    "\n",
    "df = pd.read_csv('interactions.csv')"
   ]
  },
  {
   "cell_type": "code",
   "execution_count": 3,
   "metadata": {},
   "outputs": [
    {
     "data": {
      "text/html": [
       "<div>\n",
       "<style scoped>\n",
       "    .dataframe tbody tr th:only-of-type {\n",
       "        vertical-align: middle;\n",
       "    }\n",
       "\n",
       "    .dataframe tbody tr th {\n",
       "        vertical-align: top;\n",
       "    }\n",
       "\n",
       "    .dataframe thead th {\n",
       "        text-align: right;\n",
       "    }\n",
       "</style>\n",
       "<table border=\"1\" class=\"dataframe\">\n",
       "  <thead>\n",
       "    <tr style=\"text-align: right;\">\n",
       "      <th></th>\n",
       "      <th>source</th>\n",
       "      <th>target</th>\n",
       "      <th>weight</th>\n",
       "    </tr>\n",
       "  </thead>\n",
       "  <tbody>\n",
       "    <tr>\n",
       "      <th>0</th>\n",
       "      <td>chrY-38250000</td>\n",
       "      <td>chr1-3000000</td>\n",
       "      <td>0.500000</td>\n",
       "    </tr>\n",
       "    <tr>\n",
       "      <th>1</th>\n",
       "      <td>chrY-87250000</td>\n",
       "      <td>chr1-3000000</td>\n",
       "      <td>0.083333</td>\n",
       "    </tr>\n",
       "    <tr>\n",
       "      <th>2</th>\n",
       "      <td>chr7-8750000</td>\n",
       "      <td>chr1-3250000</td>\n",
       "      <td>0.055556</td>\n",
       "    </tr>\n",
       "    <tr>\n",
       "      <th>3</th>\n",
       "      <td>chr14-5000000</td>\n",
       "      <td>chr1-3250000</td>\n",
       "      <td>0.050000</td>\n",
       "    </tr>\n",
       "    <tr>\n",
       "      <th>4</th>\n",
       "      <td>chrX-31250000</td>\n",
       "      <td>chr1-3250000</td>\n",
       "      <td>0.050000</td>\n",
       "    </tr>\n",
       "  </tbody>\n",
       "</table>\n",
       "</div>"
      ],
      "text/plain": [
       "          source        target    weight\n",
       "0  chrY-38250000  chr1-3000000  0.500000\n",
       "1  chrY-87250000  chr1-3000000  0.083333\n",
       "2   chr7-8750000  chr1-3250000  0.055556\n",
       "3  chr14-5000000  chr1-3250000  0.050000\n",
       "4  chrX-31250000  chr1-3250000  0.050000"
      ]
     },
     "execution_count": 3,
     "metadata": {},
     "output_type": "execute_result"
    }
   ],
   "source": [
    "df.head()"
   ]
  },
  {
   "cell_type": "code",
   "execution_count": null,
   "metadata": {},
   "outputs": [],
   "source": []
  },
  {
   "cell_type": "code",
   "execution_count": 4,
   "metadata": {},
   "outputs": [],
   "source": [
    "H = nx.from_pandas_edgelist(df, edge_attr=True)"
   ]
  },
  {
   "cell_type": "code",
   "execution_count": 5,
   "metadata": {},
   "outputs": [],
   "source": [
    "pos=nx.circular_layout(H)"
   ]
  },
  {
   "cell_type": "code",
   "execution_count": 6,
   "metadata": {},
   "outputs": [],
   "source": [
    "data = nx.json_graph.node_link_data(H, {'link': 'edges', 'source': 'from', 'target': 'to'})"
   ]
  },
  {
   "cell_type": "code",
   "execution_count": 7,
   "metadata": {},
   "outputs": [],
   "source": [
    "for counter in range(len(data['nodes'])):\n",
    "    data['nodes'][counter]['label'] = data['nodes'][counter]['id']\n",
    "    data['nodes'][counter]['title'] = data['nodes'][counter]['id'][0:4] +\"\\n\"+ data['nodes'][counter]['id'][5:]\n",
    "    data['nodes'][counter]['group'] = data['nodes'][counter]['id'].split(\"-\")[0][3:]\n",
    "    data['nodes'][counter]['value'] = random.randint(1,10)\n",
    "    value = pos[data['nodes'][counter]['id']]\n",
    "    data['nodes'][counter]['x'] = value[0]*10000\n",
    "    data['nodes'][counter]['y'] = value[1]*10000"
   ]
  },
  {
   "cell_type": "code",
   "execution_count": 8,
   "metadata": {},
   "outputs": [],
   "source": [
    "for counter in range(len(data['edges']) -1):\n",
    "    source = data['edges'][counter]['from']\n",
    "    target = data['edges'][counter]['to']\n",
    "    data['edges'][counter] = {}\n",
    "    data['edges'][counter]['from'] = source\n",
    "    data['edges'][counter]['to'] = target\n",
    "    data['edges'][counter]['title'] = \"Here comes <br> the information <br> related to interaction\"\n",
    "    data['edges'][counter]['length'] = random.randint(10,300)\n",
    "    data['edges'][counter]['value'] = random.randint(1,2)"
   ]
  },
  {
   "cell_type": "code",
   "execution_count": 9,
   "metadata": {},
   "outputs": [],
   "source": [
    "import json\n",
    "with open('../docs/test_visjs.json','w') as out_file:\n",
    "    json.dump(data,out_file)"
   ]
  },
  {
   "cell_type": "code",
   "execution_count": null,
   "metadata": {},
   "outputs": [],
   "source": []
  },
  {
   "cell_type": "markdown",
   "metadata": {},
   "source": [
    "### 3D graph \n",
    "\n",
    "3d graph is not for the above file(structure) because not been able to predict the structure"
   ]
  },
  {
   "cell_type": "code",
   "execution_count": 10,
   "metadata": {},
   "outputs": [],
   "source": [
    "color_ = {\n",
    "            '1' : {'r' : 0, 'g' : 0, 'b' : 256},\n",
    "            '2' : {'r' : 256, 'g' : 0, 'b' : 0},\n",
    "            '3' : {'r' : 0, 'g' : 256, 'b' : 0},\n",
    "            '4' : {'r' : 256, 'g' : 256, 'b' : 0},\n",
    "            '5' : {'r' : 256, 'g' : 0, 'b' : 256},\n",
    "            '6' : {'r' : 0, 'g' : 256, 'b' : 256},\n",
    "            '7' : {'r' : 150, 'g' : 0, 'b' : 50},\n",
    "            '8' : {'r' : 50, 'g' : 0, 'b' : 156},\n",
    "            '9' : {'r' : 0, 'g' : 50, 'b' : 156},\n",
    "            '10' : {'r' : 0, 'g' : 154, 'b' : 56},\n",
    "            '11' : {'r' : 60, 'g' : 40, 'b' : 156},\n",
    "            '12' : {'r' : 0, 'g' : 130, 'b' : 68},\n",
    "            '13' : {'r' : 240, 'g' : 40, 'b' : 26},\n",
    "            '14' : {'r' : 29, 'g' : 248, 'b' : 25},\n",
    "            '15' : {'r' : 231, 'g' : 100, 'b' : 256},\n",
    "            '16' : {'r' : 0, 'g' : 190, 'b' : 206},\n",
    "            '17' : {'r' : 190, 'g' : 0, 'b' : 56},\n",
    "            '18' : {'r' : 180, 'g' : 150, 'b' : 206},\n",
    "            '19' : {'r' : 89, 'g' : 33, 'b' : 26},\n",
    "            '20' : {'r' : 150, 'g' : 50, 'b' : 120},\n",
    "            'X' : {'r' : 240, 'g' : 50, 'b' : 10},\n",
    "            'Y' : {'r' : 240, 'g' : 170, 'b' : 60},\n",
    "            'M' : {'r' : 220, 'g' : 120, 'b' : 0}\n",
    "        }"
   ]
  },
  {
   "cell_type": "code",
   "execution_count": 11,
   "metadata": {
    "scrolled": true
   },
   "outputs": [],
   "source": [
    "for key,value in pos.items():\n",
    "#     print(key.split(\"-\")[0][3:])\n",
    "    H.nodes[key]['viz'] = {'size': random.randint(0, 9)}\n",
    "    H.nodes[key]['viz']['position'] = {'x' : value[0], 'y' : value[1]}\n",
    "    H.nodes[key]['viz']['color'] = color_[key.split(\"-\")[0][3:]]"
   ]
  },
  {
   "cell_type": "code",
   "execution_count": null,
   "metadata": {},
   "outputs": [],
   "source": []
  },
  {
   "cell_type": "code",
   "execution_count": 12,
   "metadata": {},
   "outputs": [],
   "source": [
    "nx.write_gexf(H, \"../docs/test.gexf\")"
   ]
  },
  {
   "cell_type": "code",
   "execution_count": null,
   "metadata": {},
   "outputs": [],
   "source": []
  }
 ],
 "metadata": {
  "kernelspec": {
   "display_name": "Python 3",
   "language": "python",
   "name": "python3"
  },
  "language_info": {
   "codemirror_mode": {
    "name": "ipython",
    "version": 3
   },
   "file_extension": ".py",
   "mimetype": "text/x-python",
   "name": "python",
   "nbconvert_exporter": "python",
   "pygments_lexer": "ipython3",
   "version": "3.7.3"
  }
 },
 "nbformat": 4,
 "nbformat_minor": 2
}
