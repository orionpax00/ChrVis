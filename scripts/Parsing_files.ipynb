{
 "cells": [
  {
   "cell_type": "markdown",
   "metadata": {},
   "source": [
    "### Parsing the annotation file"
   ]
  },
  {
   "cell_type": "code",
   "execution_count": 179,
   "metadata": {},
   "outputs": [],
   "source": [
    "import csv\n",
    "import json\n",
    "import pandas as pd"
   ]
  },
  {
   "cell_type": "code",
   "execution_count": 2,
   "metadata": {},
   "outputs": [],
   "source": [
    "with open('../docs/data/matrix_files/Pro-B_BM_EP.txt','r') as annot_file:\n",
    "    lines = annot_file.readlines()"
   ]
  },
  {
   "cell_type": "code",
   "execution_count": 6,
   "metadata": {},
   "outputs": [
    {
     "data": {
      "text/plain": [
       "'chr1:13277140-13278940_ENSMUSG00000005886$Ncoa2$chr1$13364164$-\\t2.565974\\n'"
      ]
     },
     "execution_count": 6,
     "metadata": {},
     "output_type": "execute_result"
    }
   ],
   "source": [
    "lines[0]"
   ]
  },
  {
   "cell_type": "code",
   "execution_count": 7,
   "metadata": {},
   "outputs": [
    {
     "data": {
      "text/plain": [
       "['chr1:13277140-13278940',\n",
       " 'ENSMUSG00000005886$Ncoa2$chr1$13364164$-\\t2.565974\\n']"
      ]
     },
     "execution_count": 7,
     "metadata": {},
     "output_type": "execute_result"
    }
   ],
   "source": [
    "lines[0].split(\"_\")"
   ]
  },
  {
   "cell_type": "code",
   "execution_count": 12,
   "metadata": {},
   "outputs": [
    {
     "data": {
      "text/plain": [
       "['13277140', '13278940']"
      ]
     },
     "execution_count": 12,
     "metadata": {},
     "output_type": "execute_result"
    }
   ],
   "source": [
    "lines[0].split(\"_\")[0].split(\":\")[1].split(\"-\")"
   ]
  },
  {
   "cell_type": "code",
   "execution_count": 10,
   "metadata": {},
   "outputs": [
    {
     "data": {
      "text/plain": [
       "'Ncoa2'"
      ]
     },
     "execution_count": 10,
     "metadata": {},
     "output_type": "execute_result"
    }
   ],
   "source": [
    "lines[0].split(\"_\")[1].split(\"$\")[1]"
   ]
  },
  {
   "cell_type": "code",
   "execution_count": 23,
   "metadata": {},
   "outputs": [],
   "source": [
    "chr_name = []\n",
    "chr_start = []\n",
    "chr_end = []\n",
    "annot_name = []\n",
    "for line in lines:\n",
    "    chr_name.append(line.split(\"_\")[0].split(\":\")[0])\n",
    "    chr_start.append(line.split(\"_\")[0].split(\":\")[1].split(\"-\")[0])\n",
    "    chr_end.append(line.split(\"_\")[0].split(\":\")[1].split(\"-\")[1])\n",
    "    annot_name.append(line.split(\"_\")[1].split(\"$\")[1])"
   ]
  },
  {
   "cell_type": "code",
   "execution_count": 24,
   "metadata": {},
   "outputs": [],
   "source": [
    "import pandas as pd"
   ]
  },
  {
   "cell_type": "code",
   "execution_count": 25,
   "metadata": {},
   "outputs": [],
   "source": [
    "df = pd.DataFrame({\n",
    "    \"chr_name\":chr_name,\n",
    "    \"chr_start\":chr_start,\n",
    "    \"chr_end\":chr_end,\n",
    "    \"annot_name\":annot_name,\n",
    "})"
   ]
  },
  {
   "cell_type": "code",
   "execution_count": 26,
   "metadata": {},
   "outputs": [],
   "source": [
    "df.to_csv(\"annot_file.csv\",index=False)"
   ]
  },
  {
   "cell_type": "code",
   "execution_count": null,
   "metadata": {},
   "outputs": [],
   "source": []
  },
  {
   "cell_type": "code",
   "execution_count": null,
   "metadata": {},
   "outputs": [],
   "source": []
  },
  {
   "cell_type": "markdown",
   "metadata": {},
   "source": [
    "## Merging threshold interaction file with 3d structure"
   ]
  },
  {
   "cell_type": "code",
   "execution_count": 6,
   "metadata": {},
   "outputs": [],
   "source": [
    "interaction_file = '../docs/data/human_inter.json'\n",
    "structure_file = '../docs/data/dummy_chromatin_str.txt'"
   ]
  },
  {
   "cell_type": "code",
   "execution_count": 7,
   "metadata": {},
   "outputs": [],
   "source": [
    "with open(interaction_file, 'r') as inter_file:\n",
    "    inter_data = json.load(inter_file)"
   ]
  },
  {
   "cell_type": "code",
   "execution_count": 11,
   "metadata": {},
   "outputs": [],
   "source": [
    "inter_data = inter_data['interactions']"
   ]
  },
  {
   "cell_type": "code",
   "execution_count": 113,
   "metadata": {},
   "outputs": [],
   "source": [
    "with open(structure_file, 'r') as str_file:\n",
    "    lines = str_file.readlines()"
   ]
  },
  {
   "cell_type": "code",
   "execution_count": 43,
   "metadata": {},
   "outputs": [],
   "source": [
    "chr_str_pos_ = {\n",
    "}\n",
    "for i in range(22):\n",
    "    chr_str_pos_[i+1] = []\n",
    "    \n",
    "    \n",
    "for i in lines[1:]:\n",
    "    chr_str_pos_[int(i.split(\"\\t\")[0])].append(i)"
   ]
  },
  {
   "cell_type": "code",
   "execution_count": 18,
   "metadata": {},
   "outputs": [],
   "source": [
    "chr_pos = {\n",
    "}\n",
    "for i in range(22):\n",
    "    chr_pos[i+1] = []\n",
    "\n",
    "for i in inter_data:\n",
    "    chr_pos[i['chr1']].append(i['pos1'])\n",
    "    chr_pos[i['chr2']].append(i['pos2'])\n",
    "    "
   ]
  },
  {
   "cell_type": "code",
   "execution_count": 25,
   "metadata": {},
   "outputs": [],
   "source": [
    "for key,value in chr_pos.items():\n",
    "    new_value = set(value)\n",
    "    chr_pos[key] =new_value"
   ]
  },
  {
   "cell_type": "code",
   "execution_count": null,
   "metadata": {},
   "outputs": [],
   "source": []
  },
  {
   "cell_type": "code",
   "execution_count": 53,
   "metadata": {},
   "outputs": [],
   "source": [
    "chr_str_pos = {\n",
    "}\n",
    "for i in range(22):\n",
    "    chr_str_pos[i+1] = []\n",
    "\n",
    "for j in chr_str_pos_.values():\n",
    "    for counter,i in enumerate(j):\n",
    "        if counter in chr_pos[int(i.split(\"\\t\")[0])]:\n",
    "            chr_str_pos[int(i.split(\"\\t\")[0])].append( str(counter) + \"\\t\" +i)"
   ]
  },
  {
   "cell_type": "code",
   "execution_count": 54,
   "metadata": {
    "scrolled": true
   },
   "outputs": [],
   "source": [
    "with open('../docs/data/merge_3d_inter.txt','w') as outfile:\n",
    "    for i in chr_str_pos.values():\n",
    "        for j in i:\n",
    "            outfile.write(j)"
   ]
  },
  {
   "cell_type": "code",
   "execution_count": 85,
   "metadata": {},
   "outputs": [],
   "source": [
    "## Creating a final file for threejs\n",
    "\n",
    "merged_file = '../docs/data/merge_3d_inter.txt'\n",
    "\n",
    "with open(merged_file,'r') as mg_file:\n",
    "    lines = mg_file.readlines()\n",
    "    \n",
    "    \n",
    "points = []\n",
    "    \n",
    "for line in lines:\n",
    "    dict_ = {\n",
    "        \n",
    "    }\n",
    "    spl_line = line.split(\"\\t\")\n",
    "    \n",
    "    trans_intreract_list = []\n",
    "    trans_intreract_list_freq = []\n",
    "    trans_intreract_list_loc = []\n",
    "    cis_intreract_list = []\n",
    "    cis_intreract_list_freq = []\n",
    "    cis_intreract_list_loc = []\n",
    "    for i in inter_data:\n",
    "        if i['pos1'] == int(spl_line[0]) and i['chr1'] != i['chr2']:\n",
    "            trans_intreract_list.append(i['pos2'])\n",
    "            trans_intreract_list_freq.append(i['freq'])\n",
    "            for j in lines:\n",
    "                if int(j.split(\"\\t\")[0]) == i['pos2']:\n",
    "                    trans_intreract_list_loc.append([j.split(\"\\t\")[3],j.split(\"\\t\")[4],j.split(\"\\t\")[5][0:-2]])\n",
    "                else:\n",
    "                    continue\n",
    "                \n",
    "        elif i['pos1'] == int(spl_line[0]) and i['chr1'] == i['chr2']:\n",
    "            cis_intreract_list.append(i['pos2'])\n",
    "            cis_intreract_list_freq.append(i['freq'])\n",
    "            for j in lines:\n",
    "                if int(j.split(\"\\t\")[0]) == i['pos2']:\n",
    "                    cis_intreract_list_loc.append([j.split(\"\\t\")[3], j.split(\"\\t\")[4], j.split(\"\\t\")[5][0:-2]])\n",
    "                else:\n",
    "                    continue\n",
    "    \n",
    "    dict_[\"trans_intreract_list\"] = trans_intreract_list\n",
    "    dict_[\"cis_intreract_list\"] = cis_intreract_list \n",
    "    dict_[\"trans_intreract_list_freq\"] = trans_intreract_list_freq\n",
    "    dict_[\"cis_intreract_list_freq\"] = cis_intreract_list_freq \n",
    "    dict_[\"trans_intreract_list_loc\"] = trans_intreract_list_loc\n",
    "    dict_[\"cis_intreract_list_loc\"] = cis_intreract_list_loc \n",
    "    dict_[\"chr\"] = spl_line[1]\n",
    "    dict_[\"position\"] = [spl_line[3],spl_line[4],spl_line[5][0:-2]]\n",
    "    \n",
    "    points.append(dict_)\n",
    "            \n",
    "    "
   ]
  },
  {
   "cell_type": "code",
   "execution_count": 86,
   "metadata": {},
   "outputs": [],
   "source": [
    "data = {\n",
    "    \"data\":points\n",
    "}"
   ]
  },
  {
   "cell_type": "code",
   "execution_count": 88,
   "metadata": {},
   "outputs": [],
   "source": [
    "with open('../docs/data/complete3d_network.json','w') as outfile:\n",
    "    json.dump(data,outfile)"
   ]
  },
  {
   "cell_type": "markdown",
   "metadata": {},
   "source": []
  },
  {
   "cell_type": "code",
   "execution_count": null,
   "metadata": {},
   "outputs": [],
   "source": []
  },
  {
   "cell_type": "markdown",
   "metadata": {},
   "source": [
    "### Generating random annotation file for 3d structure"
   ]
  },
  {
   "cell_type": "code",
   "execution_count": 98,
   "metadata": {},
   "outputs": [],
   "source": [
    "fixed_str_file = '../docs/data/dummy_chromatin_str_fixed.txt'"
   ]
  },
  {
   "cell_type": "code",
   "execution_count": 182,
   "metadata": {},
   "outputs": [
    {
     "data": {
      "text/plain": [
       "13344"
      ]
     },
     "execution_count": 182,
     "metadata": {},
     "output_type": "execute_result"
    }
   ],
   "source": [
    "df = pd.read_csv(\"../docs/data/annot_file.csv\")\n",
    "\n",
    "annot_name = df['annot_name']\n",
    "len(annot_name)"
   ]
  },
  {
   "cell_type": "code",
   "execution_count": 127,
   "metadata": {},
   "outputs": [
    {
     "data": {
      "text/plain": [
       "13782"
      ]
     },
     "execution_count": 127,
     "metadata": {},
     "output_type": "execute_result"
    }
   ],
   "source": [
    "with open(fixed_str_file , 'r') as fx_file:\n",
    "    fx_lines = [line.split(\"\\n\")[0] for line in fx_file]\n",
    "len(fx_lines)"
   ]
  },
  {
   "cell_type": "code",
   "execution_count": 129,
   "metadata": {},
   "outputs": [
    {
     "data": {
      "text/plain": [
       "['1', '6831', '78.610', '57.461', '90.014']"
      ]
     },
     "execution_count": 129,
     "metadata": {},
     "output_type": "execute_result"
    }
   ],
   "source": [
    "fx_lines[1].split(\"\\t\")"
   ]
  },
  {
   "cell_type": "code",
   "execution_count": 130,
   "metadata": {},
   "outputs": [],
   "source": [
    "import random"
   ]
  },
  {
   "cell_type": "code",
   "execution_count": 189,
   "metadata": {},
   "outputs": [],
   "source": [
    "new_lines = []\n",
    "for counter, j in enumerate(fx_lines[10:13344]):\n",
    "    j = j.split(\"\\t\")\n",
    "    line_ = {}\n",
    "    line_['chr'] = j[0]\n",
    "    \n",
    "    x = random.choice([1, -1])\n",
    "    y = random.randint(1,100000) * x\n",
    "    \n",
    "    z1 = float(j[1]) + y\n",
    "    z2 = float(j[1]) - y\n",
    "    \n",
    "    z = [z1,z2]\n",
    "    z.sort()\n",
    "\n",
    "    line_['pos'] = [str(k) for k in z]\n",
    "    line_['annot_name'] = annot_name[counter]\n",
    "    line_['loc'] = ([j[2], j[3], j[4]])\n",
    "\n",
    "    \n",
    "    new_lines.append(line_)"
   ]
  },
  {
   "cell_type": "code",
   "execution_count": 190,
   "metadata": {},
   "outputs": [],
   "source": [
    "data = {\n",
    "    \"annot_data\":new_lines\n",
    "}\n",
    "\n",
    "with open('../docs/data/3d_str_annotation.json','w') as outfile:\n",
    "    json.dump(data,outfile)"
   ]
  },
  {
   "cell_type": "code",
   "execution_count": null,
   "metadata": {},
   "outputs": [],
   "source": []
  }
 ],
 "metadata": {
  "kernelspec": {
   "display_name": "Python 3",
   "language": "python",
   "name": "python3"
  },
  "language_info": {
   "codemirror_mode": {
    "name": "ipython",
    "version": 3
   },
   "file_extension": ".py",
   "mimetype": "text/x-python",
   "name": "python",
   "nbconvert_exporter": "python",
   "pygments_lexer": "ipython3",
   "version": "3.7.3"
  }
 },
 "nbformat": 4,
 "nbformat_minor": 2
}
