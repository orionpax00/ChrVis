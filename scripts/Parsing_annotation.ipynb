{
 "cells": [
  {
   "cell_type": "markdown",
   "metadata": {},
   "source": [
    "### Parsing the annotation file"
   ]
  },
  {
   "cell_type": "code",
   "execution_count": 3,
   "metadata": {},
   "outputs": [],
   "source": [
    "import csv\n",
    "import json"
   ]
  },
  {
   "cell_type": "code",
   "execution_count": 2,
   "metadata": {},
   "outputs": [],
   "source": [
    "with open('../docs/data/matrix_files/Pro-B_BM_EP.txt','r') as annot_file:\n",
    "    lines = annot_file.readlines()"
   ]
  },
  {
   "cell_type": "code",
   "execution_count": 6,
   "metadata": {},
   "outputs": [
    {
     "data": {
      "text/plain": [
       "'chr1:13277140-13278940_ENSMUSG00000005886$Ncoa2$chr1$13364164$-\\t2.565974\\n'"
      ]
     },
     "execution_count": 6,
     "metadata": {},
     "output_type": "execute_result"
    }
   ],
   "source": [
    "lines[0]"
   ]
  },
  {
   "cell_type": "code",
   "execution_count": 7,
   "metadata": {},
   "outputs": [
    {
     "data": {
      "text/plain": [
       "['chr1:13277140-13278940',\n",
       " 'ENSMUSG00000005886$Ncoa2$chr1$13364164$-\\t2.565974\\n']"
      ]
     },
     "execution_count": 7,
     "metadata": {},
     "output_type": "execute_result"
    }
   ],
   "source": [
    "lines[0].split(\"_\")"
   ]
  },
  {
   "cell_type": "code",
   "execution_count": 12,
   "metadata": {},
   "outputs": [
    {
     "data": {
      "text/plain": [
       "['13277140', '13278940']"
      ]
     },
     "execution_count": 12,
     "metadata": {},
     "output_type": "execute_result"
    }
   ],
   "source": [
    "lines[0].split(\"_\")[0].split(\":\")[1].split(\"-\")"
   ]
  },
  {
   "cell_type": "code",
   "execution_count": 10,
   "metadata": {},
   "outputs": [
    {
     "data": {
      "text/plain": [
       "'Ncoa2'"
      ]
     },
     "execution_count": 10,
     "metadata": {},
     "output_type": "execute_result"
    }
   ],
   "source": [
    "lines[0].split(\"_\")[1].split(\"$\")[1]"
   ]
  },
  {
   "cell_type": "code",
   "execution_count": 23,
   "metadata": {},
   "outputs": [],
   "source": [
    "chr_name = []\n",
    "chr_start = []\n",
    "chr_end = []\n",
    "annot_name = []\n",
    "for line in lines:\n",
    "    chr_name.append(line.split(\"_\")[0].split(\":\")[0])\n",
    "    chr_start.append(line.split(\"_\")[0].split(\":\")[1].split(\"-\")[0])\n",
    "    chr_end.append(line.split(\"_\")[0].split(\":\")[1].split(\"-\")[1])\n",
    "    annot_name.append(line.split(\"_\")[1].split(\"$\")[1])"
   ]
  },
  {
   "cell_type": "code",
   "execution_count": 24,
   "metadata": {},
   "outputs": [],
   "source": [
    "import pandas as pd"
   ]
  },
  {
   "cell_type": "code",
   "execution_count": 25,
   "metadata": {},
   "outputs": [],
   "source": [
    "df = pd.DataFrame({\n",
    "    \"chr_name\":chr_name,\n",
    "    \"chr_start\":chr_start,\n",
    "    \"chr_end\":chr_end,\n",
    "    \"annot_name\":annot_name,\n",
    "})"
   ]
  },
  {
   "cell_type": "code",
   "execution_count": 26,
   "metadata": {},
   "outputs": [],
   "source": [
    "df.to_csv(\"annot_file.csv\",index=False)"
   ]
  },
  {
   "cell_type": "code",
   "execution_count": null,
   "metadata": {},
   "outputs": [],
   "source": []
  },
  {
   "cell_type": "code",
   "execution_count": null,
   "metadata": {},
   "outputs": [],
   "source": []
  },
  {
   "cell_type": "markdown",
   "metadata": {},
   "source": [
    "## Merging threshold interaction file with 3d structure"
   ]
  },
  {
   "cell_type": "code",
   "execution_count": 6,
   "metadata": {},
   "outputs": [],
   "source": [
    "interaction_file = '../docs/data/human_inter.json'\n",
    "structure_file = '../docs/data/dummy_chromatin_str.txt'"
   ]
  },
  {
   "cell_type": "code",
   "execution_count": 7,
   "metadata": {},
   "outputs": [],
   "source": [
    "with open(interaction_file, 'r') as inter_file:\n",
    "    inter_data = json.load(inter_file)"
   ]
  },
  {
   "cell_type": "code",
   "execution_count": 11,
   "metadata": {},
   "outputs": [],
   "source": [
    "inter_data = inter_data['interactions']"
   ]
  },
  {
   "cell_type": "code",
   "execution_count": 28,
   "metadata": {},
   "outputs": [],
   "source": [
    "with open(structure_file, 'r') as str_file:\n",
    "    lines = str_file.readlines()"
   ]
  },
  {
   "cell_type": "code",
   "execution_count": 43,
   "metadata": {},
   "outputs": [],
   "source": [
    "chr_str_pos_ = {\n",
    "}\n",
    "for i in range(22):\n",
    "    chr_str_pos_[i+1] = []\n",
    "    \n",
    "    \n",
    "for i in lines[1:]:\n",
    "    chr_str_pos_[int(i.split(\"\\t\")[0])].append(i)"
   ]
  },
  {
   "cell_type": "code",
   "execution_count": 18,
   "metadata": {},
   "outputs": [],
   "source": [
    "chr_pos = {\n",
    "}\n",
    "for i in range(22):\n",
    "    chr_pos[i+1] = []\n",
    "\n",
    "for i in inter_data:\n",
    "    chr_pos[i['chr1']].append(i['pos1'])\n",
    "    chr_pos[i['chr2']].append(i['pos2'])\n",
    "    "
   ]
  },
  {
   "cell_type": "code",
   "execution_count": 25,
   "metadata": {},
   "outputs": [],
   "source": [
    "for key,value in chr_pos.items():\n",
    "    new_value = set(value)\n",
    "    chr_pos[key] =new_value"
   ]
  },
  {
   "cell_type": "code",
   "execution_count": null,
   "metadata": {},
   "outputs": [],
   "source": []
  },
  {
   "cell_type": "code",
   "execution_count": 45,
   "metadata": {},
   "outputs": [],
   "source": [
    "chr_str_pos = {\n",
    "}\n",
    "for i in range(22):\n",
    "    chr_str_pos[i+1] = []\n",
    "\n",
    "for j in chr_str_pos_.values():\n",
    "    for counter,i in enumerate(j):\n",
    "        if counter in chr_pos[int(i.split(\"\\t\")[0])]:\n",
    "            chr_str_pos[int(i.split(\"\\t\")[0])].append(i)"
   ]
  },
  {
   "cell_type": "code",
   "execution_count": 50,
   "metadata": {
    "scrolled": true
   },
   "outputs": [],
   "source": [
    "with open('../docs/data/merge_3d_inter.txt','w') as outfile:\n",
    "    for i in chr_str_pos.values():\n",
    "        for j in i:\n",
    "            outfile.write(j)"
   ]
  },
  {
   "cell_type": "code",
   "execution_count": null,
   "metadata": {},
   "outputs": [],
   "source": []
  }
 ],
 "metadata": {
  "kernelspec": {
   "display_name": "Python 3",
   "language": "python",
   "name": "python3"
  },
  "language_info": {
   "codemirror_mode": {
    "name": "ipython",
    "version": 3
   },
   "file_extension": ".py",
   "mimetype": "text/x-python",
   "name": "python",
   "nbconvert_exporter": "python",
   "pygments_lexer": "ipython3",
   "version": "3.7.3"
  }
 },
 "nbformat": 4,
 "nbformat_minor": 2
}
