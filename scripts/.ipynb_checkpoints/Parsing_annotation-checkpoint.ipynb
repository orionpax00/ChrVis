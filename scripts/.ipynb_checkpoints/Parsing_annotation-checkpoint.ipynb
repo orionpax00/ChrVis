{
 "cells": [
  {
   "cell_type": "code",
   "execution_count": 1,
   "metadata": {},
   "outputs": [],
   "source": [
    "import csv"
   ]
  },
  {
   "cell_type": "code",
   "execution_count": 2,
   "metadata": {},
   "outputs": [],
   "source": [
    "with open('../docs/data/matrix_files/Pro-B_BM_EP.txt','r') as annot_file:\n",
    "    lines = annot_file.readlines()"
   ]
  },
  {
   "cell_type": "code",
   "execution_count": 6,
   "metadata": {},
   "outputs": [
    {
     "data": {
      "text/plain": [
       "'chr1:13277140-13278940_ENSMUSG00000005886$Ncoa2$chr1$13364164$-\\t2.565974\\n'"
      ]
     },
     "execution_count": 6,
     "metadata": {},
     "output_type": "execute_result"
    }
   ],
   "source": [
    "lines[0]"
   ]
  },
  {
   "cell_type": "code",
   "execution_count": 7,
   "metadata": {},
   "outputs": [
    {
     "data": {
      "text/plain": [
       "['chr1:13277140-13278940',\n",
       " 'ENSMUSG00000005886$Ncoa2$chr1$13364164$-\\t2.565974\\n']"
      ]
     },
     "execution_count": 7,
     "metadata": {},
     "output_type": "execute_result"
    }
   ],
   "source": [
    "lines[0].split(\"_\")"
   ]
  },
  {
   "cell_type": "code",
   "execution_count": 12,
   "metadata": {},
   "outputs": [
    {
     "data": {
      "text/plain": [
       "['13277140', '13278940']"
      ]
     },
     "execution_count": 12,
     "metadata": {},
     "output_type": "execute_result"
    }
   ],
   "source": [
    "lines[0].split(\"_\")[0].split(\":\")[1].split(\"-\")"
   ]
  },
  {
   "cell_type": "code",
   "execution_count": 10,
   "metadata": {},
   "outputs": [
    {
     "data": {
      "text/plain": [
       "'Ncoa2'"
      ]
     },
     "execution_count": 10,
     "metadata": {},
     "output_type": "execute_result"
    }
   ],
   "source": [
    "lines[0].split(\"_\")[1].split(\"$\")[1]"
   ]
  },
  {
   "cell_type": "code",
   "execution_count": 14,
   "metadata": {},
   "outputs": [],
   "source": [
    "chr_name = []\n",
    "chr_start = []\n",
    "chr_end = []\n",
    "annot_name = []\n",
    "for line in lines:\n",
    "    chr_name.append(lines[0].split(\"_\")[0].split(\":\")[0])\n",
    "    chr_start.append(lines[0].split(\"_\")[0].split(\":\")[1].split(\"-\")[0])\n",
    "    chr_end.append(lines[0].split(\"_\")[0].split(\":\")[1].split(\"-\")[1])\n",
    "    annot_name.append(lines[0].split(\"_\")[1].split(\"$\")[1])"
   ]
  },
  {
   "cell_type": "code",
   "execution_count": 15,
   "metadata": {},
   "outputs": [],
   "source": [
    "import pandas as pd"
   ]
  },
  {
   "cell_type": "code",
   "execution_count": null,
   "metadata": {},
   "outputs": [],
   "source": [
    "df = pd.DataFrame({\n",
    "    \"chr_name\":chr_name,\n",
    "    \"chr_start\":chr_start,\n",
    "    \"chr_end\":chr_end,\n",
    "    \"annot_name\":annot_name,\n",
    "})"
   ]
  }
 ],
 "metadata": {
  "kernelspec": {
   "display_name": "Python 3",
   "language": "python",
   "name": "python3"
  },
  "language_info": {
   "codemirror_mode": {
    "name": "ipython",
    "version": 3
   },
   "file_extension": ".py",
   "mimetype": "text/x-python",
   "name": "python",
   "nbconvert_exporter": "python",
   "pygments_lexer": "ipython3",
   "version": "3.7.3"
  }
 },
 "nbformat": 4,
 "nbformat_minor": 2
}
