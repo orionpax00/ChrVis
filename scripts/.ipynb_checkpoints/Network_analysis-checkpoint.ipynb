{
 "cells": [
  {
   "cell_type": "code",
   "execution_count": 1,
   "metadata": {},
   "outputs": [],
   "source": [
    "import json\n",
    "with open(\"../docs/data/human_inter.json\",'r') as in_file:\n",
    "    json_in = json.load(in_file)"
   ]
  },
  {
   "cell_type": "code",
   "execution_count": 2,
   "metadata": {},
   "outputs": [],
   "source": [
    "chr1 = []\n",
    "chr2 = []\n",
    "all_data = []\n",
    "for i in json_in['interactions']:\n",
    "    all_data.append((\"chr_\" + str(i['chr1']) + \"_\" + str(i['pos1']) , \"chr_\" + str(i['chr2']) + \"_\" + str(i['pos2'])))"
   ]
  },
  {
   "cell_type": "code",
   "execution_count": 3,
   "metadata": {},
   "outputs": [],
   "source": [
    "import networkx as nx\n",
    "from networkx.readwrite import json_graph\n",
    "import matplotlib.pyplot as plt\n",
    "G = nx.Graph(all_data)\n",
    "data = json_graph.node_link_data(G)\n",
    "H = json_graph.node_link_graph(data)"
   ]
  },
  {
   "cell_type": "code",
   "execution_count": 18,
   "metadata": {},
   "outputs": [],
   "source": [
    "H.nodes['chr_1_5048']['viz'] = {'size':54}"
   ]
  },
  {
   "cell_type": "code",
   "execution_count": 19,
   "metadata": {},
   "outputs": [
    {
     "data": {
      "text/plain": [
       "{'viz': {'size': 54}}"
      ]
     },
     "execution_count": 19,
     "metadata": {},
     "output_type": "execute_result"
    }
   ],
   "source": [
    "H.nodes['chr_1_5048']"
   ]
  },
  {
   "cell_type": "code",
   "execution_count": null,
   "metadata": {},
   "outputs": [],
   "source": []
  },
  {
   "cell_type": "code",
   "execution_count": null,
   "metadata": {},
   "outputs": [],
   "source": [
    "pos=nx.spring_layout(H)\n"
   ]
  },
  {
   "cell_type": "code",
   "execution_count": null,
   "metadata": {},
   "outputs": [],
   "source": [
    "from random import randint\n",
    "\n",
    "for key,value in pos.items():\n",
    "    G.node(key) = dict(value)\n",
    "    H.nodes[key]['viz'] = {'size': randint(0, 9)}\n",
    "    H.nodes[0]['viz']['position'] = {'x' : value[0], 'y' : value[1]}\n",
    "    H.nodes[0]['viz']['color'] = {'r' : 0, 'g' : 0, 'b' : 256}"
   ]
  },
  {
   "cell_type": "code",
   "execution_count": null,
   "metadata": {},
   "outputs": [],
   "source": [
    "nx.set_node_attributes(H,pos,'pos')"
   ]
  },
  {
   "cell_type": "code",
   "execution_count": null,
   "metadata": {
    "scrolled": false
   },
   "outputs": [],
   "source": [
    "# from pyvis import network as net\n",
    "# J = net.Network(notebook=True,height='1000px',width='1000px')\n",
    "# J.from_nx(H)\n",
    "# J.force_atlas_2based()\n",
    "# J.toggle_physics(True)\n",
    "# J.show_buttons(filter_=[ 'physics'])\n",
    "# J.show(\"mygraph.html\")"
   ]
  },
  {
   "cell_type": "code",
   "execution_count": null,
   "metadata": {},
   "outputs": [],
   "source": [
    "n_ = H.nodes()"
   ]
  },
  {
   "cell_type": "code",
   "execution_count": null,
   "metadata": {
    "scrolled": true
   },
   "outputs": [],
   "source": [
    "a = list(nx.node_connected_component(H,'chr_1_5048'))"
   ]
  },
  {
   "cell_type": "code",
   "execution_count": null,
   "metadata": {},
   "outputs": [],
   "source": [
    "b = list(dict(H.nodes()).keys())"
   ]
  },
  {
   "cell_type": "code",
   "execution_count": null,
   "metadata": {},
   "outputs": [],
   "source": [
    "c = [n for n in b if n not in a]"
   ]
  },
  {
   "cell_type": "code",
   "execution_count": null,
   "metadata": {},
   "outputs": [],
   "source": [
    "H.remove_nodes_from(c)\n",
    "nx.draw(H)"
   ]
  },
  {
   "cell_type": "code",
   "execution_count": null,
   "metadata": {},
   "outputs": [],
   "source": [
    "# J = net.Network(notebook=True,height='1000px',width='1000px')\n",
    "# J.from_nx(H)\n",
    "# pos = J.force_atlas_2based()\n",
    "# print(pos)\n",
    "# nx.set_node_attributes(H,'pos',pos)\n",
    "# J.toggle_physics(True)\n",
    "# J.show_buttons(filter_=[ 'physics'])\n",
    "# J.show(\"mygraph2.html\")"
   ]
  },
  {
   "cell_type": "code",
   "execution_count": null,
   "metadata": {},
   "outputs": [],
   "source": [
    "data2 = json_graph.node_link_data(H, {'link': 'edges', 'source': 'from', 'target': 'to'})"
   ]
  },
  {
   "cell_type": "code",
   "execution_count": null,
   "metadata": {},
   "outputs": [],
   "source": [
    "# G.from_nx(H)\n",
    "# G.toggle_physics(True)\n",
    "# G.show_buttons(filter_=[ 'physics'])\n",
    "# G.show(\"mygraph.html\")"
   ]
  },
  {
   "cell_type": "code",
   "execution_count": null,
   "metadata": {},
   "outputs": [],
   "source": [
    "data2"
   ]
  },
  {
   "cell_type": "code",
   "execution_count": null,
   "metadata": {},
   "outputs": [],
   "source": [
    "nx.write_gexf(H, \"test.gexf\")"
   ]
  },
  {
   "cell_type": "code",
   "execution_count": null,
   "metadata": {},
   "outputs": [],
   "source": [
    "nx.write_gexf(H)"
   ]
  },
  {
   "cell_type": "code",
   "execution_count": null,
   "metadata": {},
   "outputs": [],
   "source": [
    "linefeed = chr(10)\n",
    "s = linefeed.join(nx.generate_gexf(H))\n",
    "for line in nx.generate_gexf(G):\n",
    "    print (line)"
   ]
  },
  {
   "cell_type": "code",
   "execution_count": null,
   "metadata": {},
   "outputs": [],
   "source": []
  }
 ],
 "metadata": {
  "kernelspec": {
   "display_name": "Python 3",
   "language": "python",
   "name": "python3"
  },
  "language_info": {
   "codemirror_mode": {
    "name": "ipython",
    "version": 3
   },
   "file_extension": ".py",
   "mimetype": "text/x-python",
   "name": "python",
   "nbconvert_exporter": "python",
   "pygments_lexer": "ipython3",
   "version": "3.7.3"
  }
 },
 "nbformat": 4,
 "nbformat_minor": 2
}
