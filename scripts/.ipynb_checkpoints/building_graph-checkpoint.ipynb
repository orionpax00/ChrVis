{
 "cells": [
  {
   "cell_type": "code",
   "execution_count": 41,
   "metadata": {},
   "outputs": [],
   "source": [
    "import networkx as nx\n",
    "import matplotlib.pyplot as plt\n",
    "import pandas as pd\n",
    "\n",
    "from pyvis import network as net\n",
    "import random "
   ]
  },
  {
   "cell_type": "markdown",
   "metadata": {},
   "source": [
    "### 2D graph"
   ]
  },
  {
   "cell_type": "code",
   "execution_count": 42,
   "metadata": {},
   "outputs": [],
   "source": [
    "# reading from actual file\n",
    "\n",
    "df = pd.read_csv('cis.csv')"
   ]
  },
  {
   "cell_type": "code",
   "execution_count": 43,
   "metadata": {},
   "outputs": [
    {
     "data": {
      "text/html": [
       "<div>\n",
       "<style scoped>\n",
       "    .dataframe tbody tr th:only-of-type {\n",
       "        vertical-align: middle;\n",
       "    }\n",
       "\n",
       "    .dataframe tbody tr th {\n",
       "        vertical-align: top;\n",
       "    }\n",
       "\n",
       "    .dataframe thead th {\n",
       "        text-align: right;\n",
       "    }\n",
       "</style>\n",
       "<table border=\"1\" class=\"dataframe\">\n",
       "  <thead>\n",
       "    <tr style=\"text-align: right;\">\n",
       "      <th></th>\n",
       "      <th>source</th>\n",
       "      <th>target</th>\n",
       "      <th>weight</th>\n",
       "      <th>size</th>\n",
       "    </tr>\n",
       "  </thead>\n",
       "  <tbody>\n",
       "    <tr>\n",
       "      <th>0</th>\n",
       "      <td>chr1-7000000</td>\n",
       "      <td>chr1-7100000</td>\n",
       "      <td>0.025136</td>\n",
       "      <td>9</td>\n",
       "    </tr>\n",
       "    <tr>\n",
       "      <th>1</th>\n",
       "      <td>chr1-9700000</td>\n",
       "      <td>chr1-9800000</td>\n",
       "      <td>0.027001</td>\n",
       "      <td>6</td>\n",
       "    </tr>\n",
       "    <tr>\n",
       "      <th>2</th>\n",
       "      <td>chr1-13600000</td>\n",
       "      <td>chr1-13500000</td>\n",
       "      <td>0.029473</td>\n",
       "      <td>4</td>\n",
       "    </tr>\n",
       "    <tr>\n",
       "      <th>3</th>\n",
       "      <td>chr1-13500000</td>\n",
       "      <td>chr1-13600000</td>\n",
       "      <td>0.028725</td>\n",
       "      <td>9</td>\n",
       "    </tr>\n",
       "    <tr>\n",
       "      <th>4</th>\n",
       "      <td>chr1-16600000</td>\n",
       "      <td>chr1-16500000</td>\n",
       "      <td>0.026081</td>\n",
       "      <td>3</td>\n",
       "    </tr>\n",
       "  </tbody>\n",
       "</table>\n",
       "</div>"
      ],
      "text/plain": [
       "          source         target    weight  size\n",
       "0   chr1-7000000   chr1-7100000  0.025136     9\n",
       "1   chr1-9700000   chr1-9800000  0.027001     6\n",
       "2  chr1-13600000  chr1-13500000  0.029473     4\n",
       "3  chr1-13500000  chr1-13600000  0.028725     9\n",
       "4  chr1-16600000  chr1-16500000  0.026081     3"
      ]
     },
     "execution_count": 43,
     "metadata": {},
     "output_type": "execute_result"
    }
   ],
   "source": [
    "df.head()"
   ]
  },
  {
   "cell_type": "code",
   "execution_count": null,
   "metadata": {},
   "outputs": [],
   "source": []
  },
  {
   "cell_type": "code",
   "execution_count": 44,
   "metadata": {},
   "outputs": [],
   "source": [
    "H = nx.from_pandas_edgelist(df, edge_attr=True)"
   ]
  },
  {
   "cell_type": "code",
   "execution_count": 45,
   "metadata": {},
   "outputs": [],
   "source": [
    "pos=nx.circular_layout(H)"
   ]
  },
  {
   "cell_type": "code",
   "execution_count": 46,
   "metadata": {},
   "outputs": [],
   "source": [
    "data = nx.json_graph.node_link_data(H, {'link': 'edges', 'source': 'from', 'target': 'to'})"
   ]
  },
  {
   "cell_type": "code",
   "execution_count": 47,
   "metadata": {},
   "outputs": [],
   "source": [
    "for counter in range(len(data['nodes'])):\n",
    "    data['nodes'][counter]['label'] = data['nodes'][counter]['id']\n",
    "    data['nodes'][counter]['title'] = data['nodes'][counter]['id'][0:4] +\"\\n\"+ data['nodes'][counter]['id'][5:]\n",
    "    data['nodes'][counter]['group'] = data['nodes'][counter]['id'].split(\"-\")[0][3:]\n",
    "    data['nodes'][counter]['value'] = random.randint(1,10)\n",
    "    value = pos[data['nodes'][counter]['id']]\n",
    "    data['nodes'][counter]['x'] = value[0]*1000\n",
    "    data['nodes'][counter]['y'] = value[1]*1000"
   ]
  },
  {
   "cell_type": "code",
   "execution_count": 48,
   "metadata": {},
   "outputs": [],
   "source": [
    "for counter in range(len(data['edges']) -1):\n",
    "    source = data['edges'][counter]['from']\n",
    "    target = data['edges'][counter]['to']\n",
    "    data['edges'][counter] = {}\n",
    "    data['edges'][counter]['from'] = source\n",
    "    data['edges'][counter]['to'] = target\n",
    "    data['edges'][counter]['title'] = \"Here comes <br> the information <br> related to interaction\"\n",
    "    data['edges'][counter]['length'] = random.randint(10,300)\n",
    "    data['edges'][counter]['value'] = random.randint(1,2)"
   ]
  },
  {
   "cell_type": "code",
   "execution_count": 49,
   "metadata": {},
   "outputs": [],
   "source": [
    "import json\n",
    "with open('../docs/test_cis_circular_visjs.json','w') as out_file:\n",
    "    json.dump(data,out_file)"
   ]
  },
  {
   "cell_type": "code",
   "execution_count": null,
   "metadata": {},
   "outputs": [],
   "source": []
  },
  {
   "cell_type": "markdown",
   "metadata": {},
   "source": [
    "### 3D graph \n",
    "\n",
    "3d graph is not for the above file(structure) because not been able to predict the structure"
   ]
  },
  {
   "cell_type": "code",
   "execution_count": 39,
   "metadata": {},
   "outputs": [],
   "source": [
    "color_ = {\n",
    "            '1' : {'r' : 0, 'g' : 0, 'b' : 256},\n",
    "            '2' : {'r' : 256, 'g' : 0, 'b' : 0},\n",
    "            '3' : {'r' : 0, 'g' : 256, 'b' : 0},\n",
    "            '4' : {'r' : 256, 'g' : 256, 'b' : 0},\n",
    "            '5' : {'r' : 256, 'g' : 0, 'b' : 256},\n",
    "            '6' : {'r' : 0, 'g' : 256, 'b' : 256},\n",
    "            '7' : {'r' : 150, 'g' : 0, 'b' : 50},\n",
    "            '8' : {'r' : 50, 'g' : 0, 'b' : 156},\n",
    "            '9' : {'r' : 0, 'g' : 50, 'b' : 156},\n",
    "            '10' : {'r' : 0, 'g' : 154, 'b' : 56},\n",
    "            '11' : {'r' : 60, 'g' : 40, 'b' : 156},\n",
    "            '12' : {'r' : 0, 'g' : 130, 'b' : 68},\n",
    "            '13' : {'r' : 240, 'g' : 40, 'b' : 26},\n",
    "            '14' : {'r' : 29, 'g' : 248, 'b' : 25},\n",
    "            '15' : {'r' : 231, 'g' : 100, 'b' : 256},\n",
    "            '16' : {'r' : 0, 'g' : 190, 'b' : 206},\n",
    "            '17' : {'r' : 190, 'g' : 0, 'b' : 56},\n",
    "            '18' : {'r' : 180, 'g' : 150, 'b' : 206},\n",
    "            '19' : {'r' : 89, 'g' : 33, 'b' : 26},\n",
    "            '20' : {'r' : 150, 'g' : 50, 'b' : 120},\n",
    "            'X' : {'r' : 240, 'g' : 50, 'b' : 10},\n",
    "            'Y' : {'r' : 240, 'g' : 170, 'b' : 60},\n",
    "            'M' : {'r' : 220, 'g' : 120, 'b' : 0}\n",
    "        }"
   ]
  },
  {
   "cell_type": "code",
   "execution_count": 40,
   "metadata": {
    "scrolled": true
   },
   "outputs": [],
   "source": [
    "for key,value in pos.items():\n",
    "#     print(key.split(\"-\")[0][3:])\n",
    "    H.nodes[key]['viz'] = {'size': random.randint(0, 9)}\n",
    "    H.nodes[key]['viz']['position'] = {'x' : value[0], 'y' : value[1]}\n",
    "    H.nodes[key]['viz']['color'] = color_[key.split(\"-\")[0][3:]]"
   ]
  },
  {
   "cell_type": "code",
   "execution_count": null,
   "metadata": {},
   "outputs": [],
   "source": []
  },
  {
   "cell_type": "code",
   "execution_count": 26,
   "metadata": {},
   "outputs": [],
   "source": [
    "nx.write_gexf(H, \"../docs/test.gexf\")"
   ]
  },
  {
   "cell_type": "code",
   "execution_count": 27,
   "metadata": {},
   "outputs": [],
   "source": [
    "A = nx.adjacency_matrix(H)"
   ]
  },
  {
   "cell_type": "code",
   "execution_count": 28,
   "metadata": {},
   "outputs": [],
   "source": [
    "%matplotlib tk\n",
    "plt.matshow(A.todense())\n",
    "plt.show()"
   ]
  },
  {
   "cell_type": "code",
   "execution_count": 29,
   "metadata": {},
   "outputs": [
    {
     "data": {
      "text/plain": [
       "(30302, 3)"
      ]
     },
     "execution_count": 29,
     "metadata": {},
     "output_type": "execute_result"
    }
   ],
   "source": [
    "df.shape"
   ]
  },
  {
   "cell_type": "code",
   "execution_count": null,
   "metadata": {},
   "outputs": [],
   "source": []
  }
 ],
 "metadata": {
  "kernelspec": {
   "display_name": "Python 3",
   "language": "python",
   "name": "python3"
  },
  "language_info": {
   "codemirror_mode": {
    "name": "ipython",
    "version": 3
   },
   "file_extension": ".py",
   "mimetype": "text/x-python",
   "name": "python",
   "nbconvert_exporter": "python",
   "pygments_lexer": "ipython3",
   "version": "3.7.3"
  }
 },
 "nbformat": 4,
 "nbformat_minor": 2
}
